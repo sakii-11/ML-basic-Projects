{
 "cells": [
  {
   "cell_type": "code",
   "execution_count": 1,
   "id": "35cba3e0",
   "metadata": {},
   "outputs": [],
   "source": [
    "import numpy as np\n",
    "import pandas as pd"
   ]
  },
  {
   "cell_type": "code",
   "execution_count": 2,
   "id": "7453e8a6",
   "metadata": {},
   "outputs": [],
   "source": [
    "df= pd.read_csv(\"Salary_Data.csv\")\n",
    "Actual = df.Salary\n",
    "Exp= df.YearsExperience"
   ]
  },
  {
   "cell_type": "code",
   "execution_count": 3,
   "id": "92b30896",
   "metadata": {},
   "outputs": [
    {
     "name": "stdout",
     "output_type": "stream",
     "text": [
      "6377687030.733333\n"
     ]
    }
   ],
   "source": [
    "def mse_cal(Actual, Exp, m,c):\n",
    "    e=0\n",
    "    for i in range(len(Actual)):\n",
    "        e= e+ ((Actual[i]- m*Exp[i]- c)**2)/(len(Actual))\n",
    "    print(e)\n",
    "mse_cal(Actual, Exp, 100,200)"
   ]
  },
  {
   "cell_type": "code",
   "execution_count": 4,
   "id": "93d6615b",
   "metadata": {},
   "outputs": [],
   "source": [
    "def m_grad(Actual, Exp, m,c):\n",
    "    m_g=0\n",
    "    for i in range(len(Actual)):\n",
    "        m_g= m_g +(-2*Exp[i]*(Actual[i]- Exp[i]*m-c))/len(Actual)\n",
    "    return m_g"
   ]
  },
  {
   "cell_type": "code",
   "execution_count": 5,
   "id": "d60651c4",
   "metadata": {},
   "outputs": [],
   "source": [
    "def c_grad(Actual, Exp, m,c):\n",
    "    c_g=0\n",
    "    for i in range(len(Actual)):\n",
    "        c_g= c_g +(-2*(Actual[i]- Exp[i]*m-c))/ len(Actual)\n",
    "    return c_g"
   ]
  },
  {
   "cell_type": "code",
   "execution_count": 6,
   "id": "f6aba3d5",
   "metadata": {},
   "outputs": [
    {
     "name": "stdout",
     "output_type": "stream",
     "text": [
      "9450.692663102578 25787.27862015068\n"
     ]
    }
   ],
   "source": [
    "m=100\n",
    "c=200\n",
    "a= 0.01\n",
    "for i in range(2000):\n",
    "    m_new= m-(a*m_grad(Actual, Exp, m,c))\n",
    "    c_new= c-(a*c_grad(Actual, Exp, m,c))\n",
    "    m= m_new\n",
    "    c=c_new\n",
    "print(m,c)"
   ]
  },
  {
   "cell_type": "code",
   "execution_count": null,
   "id": "def46806",
   "metadata": {},
   "outputs": [],
   "source": []
  },
  {
   "cell_type": "code",
   "execution_count": null,
   "id": "bf445e11",
   "metadata": {},
   "outputs": [],
   "source": []
  }
 ],
 "metadata": {
  "kernelspec": {
   "display_name": "Python 3 (ipykernel)",
   "language": "python",
   "name": "python3"
  },
  "language_info": {
   "codemirror_mode": {
    "name": "ipython",
    "version": 3
   },
   "file_extension": ".py",
   "mimetype": "text/x-python",
   "name": "python",
   "nbconvert_exporter": "python",
   "pygments_lexer": "ipython3",
   "version": "3.9.12"
  }
 },
 "nbformat": 4,
 "nbformat_minor": 5
}
